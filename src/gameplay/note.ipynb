{
 "cells": [
  {
   "cell_type": "markdown",
   "metadata": {},
   "source": [
    "# Prototype"
   ]
  },
  {
   "cell_type": "code",
   "execution_count": 81,
   "metadata": {},
   "outputs": [],
   "source": [
    "import numpy as np"
   ]
  },
  {
   "cell_type": "markdown",
   "metadata": {},
   "source": [
    "### Gameplay"
   ]
  },
  {
   "cell_type": "code",
   "execution_count": 125,
   "metadata": {},
   "outputs": [],
   "source": [
    "class Gameplay:\n",
    "    def __init__(self, n_rows, n_cols):\n",
    "        self.columns = n_cols\n",
    "        self.rows = n_rows\n",
    "        self.rules = []\n",
    "        self.tiles = np.zeros((n_rows, n_cols), dtype=object)\n",
    "        for i in range(n_rows):\n",
    "            for j in range(n_cols):\n",
    "                self.tiles[i,j] = Tile()\n",
    "\n",
    "        self.prefixes = ['baba', 'rock', 'water', 'skull', 'wall', 'flag']\n",
    "        self.suffixes = ['you', 'push', 'sink', 'defeat', 'stop', 'win']\n",
    "            \n",
    "\n",
    "    # def __repr__(self):\n",
    "    #     ret_val = \"\"\n",
    "    #     for row in range(self.rows):\n",
    "    #         for col in range(self.columns):\n",
    "    #             if len(self.tiles[row,col].objects) == 0:\n",
    "    #                 ret_val += 'null'\n",
    "    #             else:\n",
    "    #                 for obj in self.tiles[row,col].objects:\n",
    "    #                     if isinstance(obj, Word):\n",
    "    #                         ret_val += obj.value\n",
    "    #                     else:\n",
    "    #                         ret_val += obj.property if obj.property != '' else 'null'\n",
    "    #                     ret_val += ', '\n",
    "    #             ret_val += '\\\\ '\n",
    "    #         ret_val += '\\n'\n",
    "    #     return ret_val\n",
    "    \n",
    "    def __repr__(self):\n",
    "        ret_val = ''\n",
    "        for i in range(self.rows):\n",
    "            for j in range(self.columns):\n",
    "                tile_string = ''\n",
    "                if len(self.tiles[i,j].objects) == 0:\n",
    "                    tile_string += '/'\n",
    "                    # tile_string += 'null'\n",
    "                else:\n",
    "                    for obj in self.tiles[i,j].objects:\n",
    "                        if isinstance(obj, Word):\n",
    "                            tile_string += obj.value.upper()\n",
    "                        else:\n",
    "                            tile_string += obj.property if obj.property !='' else 'null'\n",
    "                        tile_string += ','\n",
    "                ret_val += '{:10}'.format(tile_string)\n",
    "                # ret_val += tile_string\n",
    "            ret_val += '\\n'\n",
    "        return ret_val\n",
    "\n",
    "\n",
    "    def get_rules(self):\n",
    "        self.rules = []\n",
    "    \n",
    "        for i in range(self.rows):\n",
    "            for j in range(self.columns):\n",
    "                if self.tiles[i,j].find_word() == \"is\":\n",
    "                    print(\"yes\")\n",
    "                    \n",
    "                    #left -> right\n",
    "                    if j-1 >= 0 and j+1 <=self.columns-1:\n",
    "                        if self.tiles[i,j-1].find_word() in self.prefixes and self.tiles[i,j+1].find_word() in self.suffixes:\n",
    "                            rule = Rule(self.tiles[i,j-1].find_word(), self.tiles[i,j+1].find_word())\n",
    "                            self.rules += [rule]\n",
    "\n",
    "                    #up -> down\n",
    "                    if i-1 >= 0 and i+1 <=self.rows-1:\n",
    "                        if self.tiles[i-1,j].find_word() in self.prefixes and self.tiles[i+1,j].find_word() in self.suffixes:\n",
    "                            rule = Rule(self.tiles[i-1,j].find_word(), self.tiles[i+1,j].find_word())\n",
    "                            self.rules += [rule]\n",
    "\n",
    "    def find_block_upward(self,row,col):        \n",
    "        if not self.tiles[row,col].has_you():\n",
    "            return 0\n",
    "        count = 1\n",
    "        current_row = row - 1\n",
    "        # current_row < 0 : out of map -> no need to check anymore\n",
    "        if current_row < 0:\n",
    "            return -1\n",
    "        # current_row >= 0 check again, so the checked tile is still in the map\n",
    "        while current_row >= 0 and self.tiles[current_row,col].has_push():     \n",
    "            current_row -= 1\n",
    "            count += 1\n",
    "        #       check stop tile                        out of map\n",
    "        if self.tiles[current_row,col].has_stop() or current_row < 0:\n",
    "            return -1\n",
    "            \n",
    "        else:\n",
    "            return count\n",
    "\n",
    "            \n",
    "    def move_up(self):        \n",
    "        for row in range(self.rows):\n",
    "            for col in range(self.columns):\n",
    "                size = self.find_block_upward(row,col)\n",
    "                if size > 0:\n",
    "                    for current_row in range(row+1-size,row+1):\n",
    "                        temp = self.tiles[current_row,col].pop_push_or_you()\n",
    "                        self.tiles[current_row-1,col].objects = np.append(self.tiles[current_row-1,col].objects, [temp])\n",
    "                                   \n",
    "        \n",
    "    def move_down(self):\n",
    "        pass\n",
    "    def move_left(self):\n",
    "        pass\n",
    "    def move_right(self):\n",
    "        pass\n",
    "\n",
    "\n",
    "    def push_objects(self, direction, col, row):\n",
    "        pass\n",
    "\n",
    "\n",
    "    def check_win(self):\n",
    "        pass\n",
    "    def check_lose(self):\n",
    "        pass\n",
    "\n",
    "    \n",
    "    def reset_game(self):\n",
    "        pass\n",
    "\n",
    "    def load_map_level(self, file_name):\n",
    "        pass"
   ]
  },
  {
   "cell_type": "markdown",
   "metadata": {},
   "source": [
    "### Rule"
   ]
  },
  {
   "cell_type": "code",
   "execution_count": 83,
   "metadata": {},
   "outputs": [],
   "source": [
    "class Rule:\n",
    "    def __init__(self, first, second):         #first + is + second \n",
    "        self.first = first\n",
    "        self.second = second\n",
    "    \n",
    "    def __repr__(self):\n",
    "        return self.first +\" is \"+ self.second\n"
   ]
  },
  {
   "cell_type": "markdown",
   "metadata": {},
   "source": [
    "### Object"
   ]
  },
  {
   "cell_type": "code",
   "execution_count": 84,
   "metadata": {},
   "outputs": [],
   "source": [
    "class Object:\n",
    "    def __init__(self, property=''):\n",
    "        self.property = property\n",
    "\n",
    "    def interaction(self, another_object:object):\n",
    "        \n",
    "        pass\n",
    "        "
   ]
  },
  {
   "cell_type": "code",
   "execution_count": 85,
   "metadata": {},
   "outputs": [],
   "source": [
    "class Baba(Object):        \n",
    "    def interaction(self, another_object:object):\n",
    "        \n",
    "        pass"
   ]
  },
  {
   "cell_type": "code",
   "execution_count": 86,
   "metadata": {},
   "outputs": [],
   "source": [
    "class Rock(Object):\n",
    "    def interaction(self, another_object:object):\n",
    "        \n",
    "        pass\n",
    "        "
   ]
  },
  {
   "cell_type": "code",
   "execution_count": 87,
   "metadata": {},
   "outputs": [],
   "source": [
    "class Wall(Object):\n",
    "    def interaction(self, another_object:object):\n",
    "        \n",
    "        pass\n",
    "        "
   ]
  },
  {
   "cell_type": "code",
   "execution_count": 88,
   "metadata": {},
   "outputs": [],
   "source": [
    "class Water(Object):\n",
    "    def interaction(self, another_object:object):\n",
    "        \n",
    "        pass\n",
    "     "
   ]
  },
  {
   "cell_type": "code",
   "execution_count": 89,
   "metadata": {},
   "outputs": [],
   "source": [
    "class Skull(Object):\n",
    "    def interaction(self, another_object:object):\n",
    "        \n",
    "        pass\n",
    "        "
   ]
  },
  {
   "cell_type": "code",
   "execution_count": 90,
   "metadata": {},
   "outputs": [],
   "source": [
    "class Flag(Object):\n",
    "    def interaction(self, another_object:object):\n",
    "        \n",
    "        pass\n",
    "        "
   ]
  },
  {
   "cell_type": "code",
   "execution_count": 91,
   "metadata": {},
   "outputs": [],
   "source": [
    "class Word(Object):\n",
    "    def __init__(self, value):        \n",
    "        super().__init__('push')\n",
    "        self.value = value\n",
    "\n",
    "    def interaction(self, another_object:object):\n",
    "        \n",
    "        pass\n",
    "        "
   ]
  },
  {
   "cell_type": "markdown",
   "metadata": {},
   "source": [
    "### Tile"
   ]
  },
  {
   "cell_type": "code",
   "execution_count": 115,
   "metadata": {},
   "outputs": [],
   "source": [
    "class Tile:\n",
    "    def __init__(self):\n",
    "        self.objects = np.array([], dtype=object)\n",
    "    def add_object(self, obj : Object):\n",
    "        self.objects = np.append(self.objects, [obj])\n",
    "\n",
    "    def find_word(self):\n",
    "        for obj in self.objects:\n",
    "            if isinstance(obj, Word):\n",
    "                return obj.value\n",
    "            return ''\n",
    "\n",
    "    def has_push(self):\n",
    "        for obj in self.objects:\n",
    "            if obj.property == 'push':\n",
    "                return True\n",
    "        return False\n",
    "\n",
    "    def has_you(self):\n",
    "        for obj in self.objects:\n",
    "            if obj.property == 'you':\n",
    "                return True\n",
    "        return False\n",
    "\n",
    "    def has_stop(self):\n",
    "        for obj in self.objects:\n",
    "            if obj.property == 'stop':\n",
    "                return True\n",
    "        return False\n",
    "\n",
    "    # delete a 'push' object in the list\n",
    "    # return that 'push' object to a variable\n",
    "    def pop_push_or_you(self):\n",
    "        position = -1\n",
    "        for i in range(len(self.objects)):\n",
    "            if self.objects[i].property == 'push' or self.objects[i].property == 'you' :\n",
    "                position = i\n",
    "                print(position)\n",
    "\n",
    "        temp_obj = self.objects[position]\n",
    "        self.objects = np.delete(self.objects, position)\n",
    "\n",
    "        return temp_obj\n",
    "    "
   ]
  },
  {
   "cell_type": "markdown",
   "metadata": {},
   "source": [
    "### Unit Testing"
   ]
  },
  {
   "cell_type": "code",
   "execution_count": 93,
   "metadata": {},
   "outputs": [
    {
     "name": "stdout",
     "output_type": "stream",
     "text": [
      "yes\n"
     ]
    }
   ],
   "source": [
    "test_gp = Gameplay(6,15)\n",
    "test_gp.tiles[4,9].add_object(Word(\"is\"))\n",
    "# test_gp.tiles[4,9].add_object(Flag())\n",
    "# test_gp.tiles[4,9].add_object(Word(\"is\"))\n",
    "test_gp.tiles[3,9].add_object(Word(\"baba\"))\n",
    "test_gp.tiles[5,9].add_object(Word(\"you\"))\n",
    "test_gp.tiles[4,9].add_object(Word(\"is\"))\n",
    "test_gp.tiles[4,8].add_object(Word(\"rock\"))\n",
    "test_gp.tiles[4,10].add_object(Word(\"push\"))\n",
    "test_gp.tiles[5,9].add_object(Word(\"is\"))\n",
    "test_gp.tiles[5,8].add_object(Word(\"baba\"))\n",
    "test_gp.tiles[5,10].add_object(Word(\"rock\"))\n",
    "test_gp.tiles[2,9].add_object(Flag())\n",
    "test_gp.get_rules()\n"
   ]
  },
  {
   "cell_type": "code",
   "execution_count": 94,
   "metadata": {},
   "outputs": [
    {
     "data": {
      "text/plain": [
       "True"
      ]
     },
     "execution_count": 94,
     "metadata": {},
     "output_type": "execute_result"
    }
   ],
   "source": [
    "test_gp.tiles[4,10].has_push()\n"
   ]
  },
  {
   "cell_type": "code",
   "execution_count": 95,
   "metadata": {},
   "outputs": [
    {
     "data": {
      "text/plain": [
       "True"
      ]
     },
     "execution_count": 95,
     "metadata": {},
     "output_type": "execute_result"
    }
   ],
   "source": [
    "test_gp.tiles[5,9].has_push()"
   ]
  },
  {
   "cell_type": "code",
   "execution_count": 96,
   "metadata": {},
   "outputs": [
    {
     "data": {
      "text/plain": [
       "False"
      ]
     },
     "execution_count": 96,
     "metadata": {},
     "output_type": "execute_result"
    }
   ],
   "source": [
    "test_gp.tiles[2,9].has_push()"
   ]
  },
  {
   "cell_type": "code",
   "execution_count": 97,
   "metadata": {},
   "outputs": [
    {
     "name": "stdout",
     "output_type": "stream",
     "text": [
      "/         /         /         /         /         /         /         /         /         /         /         /         /         /         /         \n",
      "/         /         /         /         /         /         /         /         /         /         /         /         /         /         /         \n",
      "/         /         /         /         /         /         /         /         /         null,     /         /         /         /         /         \n",
      "/         /         /         /         /         /         /         /         /         BABA,     /         /         /         /         /         \n",
      "/         /         /         /         /         /         /         /         ROCK,     IS,IS,    PUSH,     /         /         /         /         \n",
      "/         /         /         /         /         /         /         /         BABA,     YOU,IS,   ROCK,     /         /         /         /         \n",
      "\n"
     ]
    }
   ],
   "source": [
    "print(test_gp)"
   ]
  },
  {
   "cell_type": "code",
   "execution_count": 98,
   "metadata": {},
   "outputs": [
    {
     "data": {
      "text/plain": [
       "<__main__.Tile at 0x170b6276d60>"
      ]
     },
     "execution_count": 98,
     "metadata": {},
     "output_type": "execute_result"
    }
   ],
   "source": [
    "test_tile = Tile()\n",
    "test_tile"
   ]
  },
  {
   "cell_type": "code",
   "execution_count": 99,
   "metadata": {},
   "outputs": [
    {
     "name": "stdout",
     "output_type": "stream",
     "text": [
      "[rock is push, baba is you]\n",
      "rock\n",
      "push\n",
      "rock is push\n"
     ]
    }
   ],
   "source": [
    "print(test_gp.rules)\n",
    "print(test_gp.rules[0].first)\n",
    "print(test_gp.rules[0].second)\n",
    "print(test_gp.rules[0])"
   ]
  },
  {
   "cell_type": "markdown",
   "metadata": {},
   "source": [
    "### Movement testing"
   ]
  },
  {
   "cell_type": "code",
   "execution_count": 127,
   "metadata": {},
   "outputs": [],
   "source": [
    "test_mm = Gameplay(7,7)\n",
    "test_mm.tiles[3,3].add_object(Rock(\"you\"))\n",
    "test_mm.tiles[2,3].add_object(Word(\"is\"))\n",
    "test_mm.tiles[1,3].add_object(Word(\"defeat\"))\n",
    "\n",
    "test_mm.tiles[2,4].add_object(Rock(\"you\"))\n",
    "test_mm.tiles[1,4].add_object(Word(\"is\"))\n",
    "test_mm.tiles[0,4].add_object(Word(\"defeat\"))"
   ]
  },
  {
   "cell_type": "code",
   "execution_count": 128,
   "metadata": {},
   "outputs": [
    {
     "name": "stdout",
     "output_type": "stream",
     "text": [
      "/         /         /         /         DEFEAT,   /         /         \n",
      "/         /         /         DEFEAT,   IS,       /         /         \n",
      "/         /         /         IS,       you,      /         /         \n",
      "/         /         /         you,      /         /         /         \n",
      "/         /         /         /         /         /         /         \n",
      "/         /         /         /         /         /         /         \n",
      "/         /         /         /         /         /         /         \n",
      "\n"
     ]
    }
   ],
   "source": [
    "print(test_mm)"
   ]
  },
  {
   "cell_type": "code",
   "execution_count": 129,
   "metadata": {},
   "outputs": [
    {
     "name": "stdout",
     "output_type": "stream",
     "text": [
      "3\n",
      "0\n",
      "0\n",
      "0\n"
     ]
    }
   ],
   "source": [
    "test_mm.move_up()"
   ]
  },
  {
   "cell_type": "code",
   "execution_count": 130,
   "metadata": {},
   "outputs": [
    {
     "name": "stdout",
     "output_type": "stream",
     "text": [
      "/         /         /         DEFEAT,   DEFEAT,   /         /         \n",
      "/         /         /         IS,       IS,       /         /         \n",
      "/         /         /         you,      you,      /         /         \n",
      "/         /         /         /         /         /         /         \n",
      "/         /         /         /         /         /         /         \n",
      "/         /         /         /         /         /         /         \n",
      "/         /         /         /         /         /         /         \n",
      "\n"
     ]
    }
   ],
   "source": [
    "print(test_mm)"
   ]
  }
 ],
 "metadata": {
  "interpreter": {
   "hash": "9fcb93a2e1649457f6ea1f7018c396eb76390968ff47a629b6912a76c40f6148"
  },
  "kernelspec": {
   "display_name": "Python 3.9.7 ('base')",
   "language": "python",
   "name": "python3"
  },
  "language_info": {
   "codemirror_mode": {
    "name": "ipython",
    "version": 3
   },
   "file_extension": ".py",
   "mimetype": "text/x-python",
   "name": "python",
   "nbconvert_exporter": "python",
   "pygments_lexer": "ipython3",
   "version": "3.9.7"
  },
  "orig_nbformat": 4
 },
 "nbformat": 4,
 "nbformat_minor": 2
}
