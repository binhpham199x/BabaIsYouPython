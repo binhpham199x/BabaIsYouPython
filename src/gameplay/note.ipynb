{
 "cells": [
  {
   "cell_type": "markdown",
   "metadata": {},
   "source": [
    "# Prototype"
   ]
  },
  {
   "cell_type": "code",
   "execution_count": 1,
   "metadata": {},
   "outputs": [],
   "source": [
    "import numpy as np\n",
    "import pandas as pd"
   ]
  },
  {
   "cell_type": "markdown",
   "metadata": {},
   "source": [
    "### Gameplay"
   ]
  },
  {
   "cell_type": "code",
   "execution_count": null,
   "metadata": {},
   "outputs": [],
   "source": [
    "class Gameplay:\n",
    "    def __init__(self, n_rows, n_cols):\n",
    "        self.columns = n_cols\n",
    "        self.rows = n_rows\n",
    "        self.rules = []\n",
    "        self.tiles = np.zeros((n_rows, n_cols), dtype=object)\n",
    "        for i in range(n_rows):\n",
    "            for j in range(n_cols):\n",
    "                self.tiles[i,j] = Tile()\n",
    "\n",
    "        self.prefixes = ['baba', 'rock', 'water', 'skull', 'wall', 'flag']\n",
    "        self.suffixes = ['you', 'push', 'sink', 'defeat', 'stop', 'win']\n",
    "            \n",
    "\n",
    "    # def __repr__(self):\n",
    "    #     ret_val = \"\"\n",
    "    #     for row in range(self.rows):\n",
    "    #         for col in range(self.columns):\n",
    "    #             if len(self.tiles[row,col].objects) == 0:\n",
    "    #                 ret_val += 'null'\n",
    "    #             else:\n",
    "    #                 for obj in self.tiles[row,col].objects:\n",
    "    #                     if isinstance(obj, Word):\n",
    "    #                         ret_val += obj.value\n",
    "    #                     else:\n",
    "    #                         ret_val += obj.property if obj.property != '' else 'null'\n",
    "    #                     ret_val += ', '\n",
    "    #             ret_val += '\\\\ '\n",
    "    #         ret_val += '\\n'\n",
    "    #     return ret_val\n",
    "    \n",
    "    def __repr__(self):\n",
    "        ret_val = ''\n",
    "        for i in range(self.rows):\n",
    "            for j in range(self.columns):\n",
    "                tile_string = ''\n",
    "                if len(self.tiles[i,j].objects) == 0:\n",
    "                    tile_string += '/'\n",
    "                    # tile_string += 'null'\n",
    "                else:\n",
    "                    for obj in self.tiles[i,j].objects:\n",
    "                        if isinstance(obj, Word):\n",
    "                            tile_string += obj.value.upper()\n",
    "                        else:\n",
    "                            tile_string += obj.property if obj.property !='' else 'null'\n",
    "                        tile_string += ','\n",
    "                ret_val += '{:10}'.format(tile_string)\n",
    "                # ret_val += tile_string\n",
    "            ret_val += '\\n'\n",
    "        return ret_val\n",
    "\n",
    "\n",
    "\n",
    "    def get_rules(self):\n",
    "        self.rules = []\n",
    "    \n",
    "        for i in range(self.rows):\n",
    "            for j in range(self.columns):\n",
    "                if self.tiles[i,j].find_word() == \"is\":\n",
    "                    print(\"yes\")\n",
    "                    \n",
    "                    #left -> right\n",
    "                    if j-1 >= 0 and j+1 <=self.columns-1:\n",
    "                        if self.tiles[i,j-1].find_word() in self.prefixes and self.tiles[i,j+1].find_word() in self.suffixes:\n",
    "                            rule = Rule(self.tiles[i,j-1].find_word(), self.tiles[i,j+1].find_word())\n",
    "                            self.rules += [rule]\n",
    "\n",
    "                    #up -> down\n",
    "                    if i-1 >= 0 and i+1 <=self.rows-1:\n",
    "                        if self.tiles[i-1,j].find_word() in self.prefixes and self.tiles[i+1,j].find_word() in self.suffixes:\n",
    "                            rule = Rule(self.tiles[i-1,j].find_word(), self.tiles[i+1,j].find_word())\n",
    "                            self.rules += [rule]\n",
    "                #ko can return bi self.rules luu trong __init__\n",
    "\n",
    "    def apply_rules(self):\n",
    "        for row in range(self.rows):\n",
    "            for col in range(self.columns):\n",
    "                temp = self.tiles[row,col]\n",
    "                for obj in temp.objects:\n",
    "                    for rule in self.rules:\n",
    "                        if obj.name == rule.first:\n",
    "                            obj.property = rule.second\n",
    "\n",
    "\n",
    "\n",
    "    def find_block_upward(self,row,col):        \n",
    "        if not self.tiles[row,col].has_property('you'):\n",
    "            return 0\n",
    "        count = 1\n",
    "        current_row = row - 1\n",
    "        # current_row < 0 : out of map -> no need to check anymore\n",
    "        if current_row < 0:\n",
    "            return -1\n",
    "        # current_row >= 0 check again, so the checked tile is still in the map\n",
    "        while current_row >= 0 and self.tiles[current_row,col].has_property('push'):     \n",
    "            current_row -= 1\n",
    "            count += 1\n",
    "        #   out of map                 check stop tile                       \n",
    "        if current_row < 0 or self.tiles[current_row,col].has_property('stop') or self.tiles[current_row,col].has_property('you'):\n",
    "            return -1\n",
    "            \n",
    "        else:\n",
    "            return count\n",
    "            \n",
    "    def move_up(self):        \n",
    "        for row in range(self.rows):\n",
    "            for col in range(self.columns):\n",
    "                size = self.find_block_upward(row,col)\n",
    "                if size > 0:\n",
    "                    for current_row in range(row+1-size,row+1):\n",
    "                        temp = self.tiles[current_row,col].pop_push_or_you()\n",
    "                        # self.tiles[current_row-1,col].objects = np.append(self.tiles[current_row-1,col].objects, [temp])\n",
    "                        self.tiles[current_row-1,col].add_object(temp)\n",
    "                                   \n",
    "\n",
    "\n",
    "    def find_block_downward(self,row,col):        \n",
    "        if not self.tiles[row,col].has_property('you'):\n",
    "            return 0\n",
    "        count = 1\n",
    "        current_row = row + 1\n",
    "        # current_row >= self.rows : out of map -> no need to check anymore\n",
    "        if current_row >= self.rows:\n",
    "            return -1\n",
    "        # current_row < self.rows check again, so the checked tile is still in the map\n",
    "        while current_row < self.rows and self.tiles[current_row,col].has_property('push'):     \n",
    "            current_row += 1\n",
    "            count += 1\n",
    "        #     out of map                    check stop tile                     \n",
    "        if current_row >= self.rows or self.tiles[current_row,col].has_property('stop') or self.tiles[current_row,col].has_property('you'):\n",
    "            return -1 \n",
    "        else:\n",
    "            return count\n",
    "    \n",
    "    def move_down(self):\n",
    "        for row in range(self.rows-1, -1, -1):\n",
    "            for col in range(self.columns):\n",
    "                size = self.find_block_downward(row, col)\n",
    "                if size > 0:\n",
    "                    for current_row in range(row+size-1,row-1,-1):\n",
    "                        temp = self.tiles[current_row,col].pop_push_or_you()\n",
    "                        # self.tiles[current_row+1,col].objects = np.append(self.tiles[current_row+1,col].objects, [temp])\n",
    "                        self.tiles[current_row+1,col].add_object(temp)\n",
    "\n",
    "\n",
    "    def find_block_left(self,row,col):        \n",
    "        if not self.tiles[row,col].has_property('you'):\n",
    "            return 0\n",
    "        count = 1\n",
    "        current_col = col - 1\n",
    "        # current_col >= self.columns : out of map -> no need to check anymore\n",
    "        if current_col < 0:\n",
    "            return -1\n",
    "        # current_col < self.columns check again, so the checked tile is still in the map\n",
    "        while current_col >= 0 and self.tiles[row,current_col].has_property('push'):     \n",
    "            current_col -= 1\n",
    "            count += 1\n",
    "        #     out of map                    check stop tile                     \n",
    "        if current_col < 0 or self.tiles[row,current_col].has_property('stop') or self.tiles[row,current_col].has_property('you'):\n",
    "            return -1\n",
    "        else:\n",
    "            return count\n",
    "\n",
    "    def move_left(self):\n",
    "        for col in range(self.columns):\n",
    "            for row in range(self.rows):\n",
    "                size = self.find_block_left(row,col)\n",
    "                if size > 0:\n",
    "                    for current_col in range(col+1-size,col+1):\n",
    "                        temp = self.tiles[row,current_col].pop_push_or_you()\n",
    "                        # self.tiles[row,current_col-1].objects = np.append(self.tiles[row,current_col-1].objects, [temp])\n",
    "                        self.tiles[row,current_col-1].add_object(temp)\n",
    "\n",
    "\n",
    "\n",
    "    def find_block_right(self,row,col):        \n",
    "        if not self.tiles[row,col].has_property('you'):\n",
    "            return 0\n",
    "        count = 1\n",
    "        current_col = col + 1\n",
    "        # current_col >= self.columns : out of map -> no need to check anymore\n",
    "        if current_col >= self.columns:\n",
    "            return -1\n",
    "        # current_row < self.rows check again, so the checked tile is still in the map\n",
    "        while current_col < self.columns and self.tiles[row,current_col].has_property('push'):     \n",
    "            current_col += 1\n",
    "            count += 1\n",
    "        #     out of map                    check stop tile                     \n",
    "        if current_col >= self.columns or self.tiles[row,current_col].has_property('stop') or self.tiles[row,current_col].has_property('you'):\n",
    "            return -1\n",
    "        else:\n",
    "            return count\n",
    "            \n",
    "    def move_right(self):\n",
    "        for col in range(self.columns-1, -1,-1):\n",
    "            for row in range(self.rows):            \n",
    "                size = self.find_block_right(row,col)\n",
    "                if size > 0:\n",
    "                    for current_col in range(col+size-1,col-1,-1):\n",
    "                        temp = self.tiles[row,current_col].pop_push_or_you()\n",
    "                        # self.tiles[row,current_col+1].objects = np.append(self.tiles[row,current_col+1].objects, [temp])\n",
    "                        self.tiles[row,current_col+1].add_object(temp)\n",
    "\n",
    "\n",
    "\n",
    "    def check_win(self):\n",
    "        for row in range(self.rows):\n",
    "            for col in range(self.columns):\n",
    "                if self.tiles[row,col].has_property('you') and self.tiles[row,col].has_property('win'):\n",
    "                    return True\n",
    "        return False\n",
    "\n",
    "    def check_lose(self):\n",
    "        for row in range(self.rows):\n",
    "            for col in range(self.columns):\n",
    "                if self.tiles[row,col].has_property('you'):\n",
    "                    return False\n",
    "        return True\n",
    "\n",
    "    \n",
    "    def reset_game(self):\n",
    "        self.load_map_level(self.level, self.info)\n",
    "\n",
    "    def load_map_level(self, level_file, info_file):\n",
    "        self.level = level_file\n",
    "        self.info = info_file \n",
    "        with open(info_file) as f:\n",
    "            # resize \n",
    "            info = f.readline().split(',')\n",
    "\n",
    "            self.rows = int(info[0])\n",
    "            self.columns = int(info[1])\n",
    "\n",
    "            self.rules = []\n",
    "            self.tiles = np.zeros((self.rows, self.columns), dtype=object)\n",
    "            for i in range(self.rows):\n",
    "                for j in range(self.columns):\n",
    "                    self.tiles[i,j] = Tile()\n",
    "\n",
    "        map_data_array = np.array(pd.read_csv(level_file, header=None), dtype=str)\n",
    "        for row in range(self.rows):\n",
    "            for col in range(self.columns):\n",
    "                # '/' chia cac obj trong cung 1 tile\n",
    "                tile_value = map_data_array[row,col].split('/')    \n",
    "                for value in tile_value:\n",
    "                    if value == '':\n",
    "                        continue\n",
    "                    elif value == 'rock':\n",
    "                        self.tiles[row,col].add_object(Rock())\n",
    "                    elif value == 'wall':\n",
    "                        self.tiles[row,col].add_object(Wall())    \n",
    "                    elif value == 'flag':\n",
    "                        self.tiles[row,col].add_object(Flag())    \n",
    "                    elif value == 'baba':\n",
    "                        self.tiles[row,col].add_object(Baba()) \n",
    "                    elif value == 'water':\n",
    "                        self.tiles[row,col].add_object(Water()) \n",
    "                    elif value == 'skull':\n",
    "                        self.tiles[row,col].add_object(Skull()) \n",
    "                    elif value.isupper():\n",
    "                        self.tiles[row,col].add_object(Word(value.lower()))\n",
    "\n",
    "\n",
    "    # self.prefixes = ['baba', 'rock', 'water', 'skull', 'wall', 'flag']\n",
    "    # self.suffixes = ['you', 'push', 'sink', 'defeat', 'stop', 'win']\n",
    "\n",
    "\n",
    "            "
   ]
  },
  {
   "cell_type": "markdown",
   "metadata": {},
   "source": [
    "### Rule"
   ]
  },
  {
   "cell_type": "code",
   "execution_count": null,
   "metadata": {},
   "outputs": [],
   "source": [
    "class Rule:\n",
    "    def __init__(self, first, second):         #first + is + second \n",
    "        self.first = first\n",
    "        self.second = second\n",
    "    \n",
    "    def __repr__(self):\n",
    "        return self.first +\" is \"+ self.second\n"
   ]
  },
  {
   "cell_type": "markdown",
   "metadata": {},
   "source": [
    "### Object"
   ]
  },
  {
   "cell_type": "code",
   "execution_count": null,
   "metadata": {},
   "outputs": [],
   "source": [
    "class Object:\n",
    "    # static variable: common variable for all the instances of the class Object.\n",
    "    \n",
    "    interaction_table = {'you':{'you':None, 'push':None, 'sink':'', 'defeat':'defeat', 'stop':None, 'win':None},\\\n",
    "                         'push':{'you':None, 'push':None, 'sink':'', 'defeat':None, 'stop':None, 'win':None},\\\n",
    "                         'sink':{'you':'', 'push':'', 'sink':None, 'defeat':None, 'stop':None, 'win':None},\\\n",
    "                         'defeat':{'you':'defeat', 'push':None, 'sink':None, 'defeat':None, 'stop':None, 'win':None},\\\n",
    "                         'stop':{'you':None, 'push':None, 'sink':None, 'defeat':None, 'stop':None, 'win':None},\\\n",
    "                         'win':{'you':None, 'push':None, 'sink':None, 'defeat':None, 'stop':None, 'win':None}}\n",
    "\n",
    "    def __init__(self, property='', name=''):\n",
    "        self.property = property\n",
    "        self.name = name\n",
    "\n",
    "    def interact(self, another_object:object):\n",
    "        if self.property =='' or another_object.property == '':\n",
    "            return None\n",
    "\n",
    "        if Object.interaction_table[self.property][another_object.property] == None:\n",
    "            return None\n",
    "        \n",
    "        elif Object.interaction_table[self.property][another_object.property] == 'defeat':\n",
    "            if self.property == 'defeat':\n",
    "                return [self]\n",
    "            else:\n",
    "                return [another_object]\n",
    "\n",
    "        elif Object.interaction_table[self.property][another_object.property] == '':\n",
    "            return []\n"
   ]
  },
  {
   "cell_type": "code",
   "execution_count": null,
   "metadata": {},
   "outputs": [],
   "source": [
    "class Baba(Object): \n",
    "    def __init__(self,property=''):        \n",
    "        super().__init__(property, 'baba')\n"
   ]
  },
  {
   "cell_type": "code",
   "execution_count": null,
   "metadata": {},
   "outputs": [],
   "source": [
    "class Rock(Object):\n",
    "    def __init__(self,property=''):\n",
    "        super().__init__(property, 'rock')\n"
   ]
  },
  {
   "cell_type": "code",
   "execution_count": null,
   "metadata": {},
   "outputs": [],
   "source": [
    "class Wall(Object):\n",
    "    def __init__(self,property=''):\n",
    "        super().__init__(property, 'wall')\n"
   ]
  },
  {
   "cell_type": "code",
   "execution_count": null,
   "metadata": {},
   "outputs": [],
   "source": [
    "class Water(Object):\n",
    "    def __init__(self,property=''):\n",
    "        super().__init__(property, 'water')"
   ]
  },
  {
   "cell_type": "code",
   "execution_count": null,
   "metadata": {},
   "outputs": [],
   "source": [
    "class Skull(Object):\n",
    "    def __init__(self,property=''):\n",
    "        super().__init__(property, 'skull')\n",
    "   "
   ]
  },
  {
   "cell_type": "code",
   "execution_count": null,
   "metadata": {},
   "outputs": [],
   "source": [
    "class Flag(Object):\n",
    "    def __init__(self,property=''):\n",
    "        super().__init__(property, 'flag')\n",
    "             "
   ]
  },
  {
   "cell_type": "code",
   "execution_count": null,
   "metadata": {},
   "outputs": [],
   "source": [
    "class Word(Object):\n",
    "    def __init__(self, value):        \n",
    "        super().__init__('push', 'word')\n",
    "        self.value = value\n"
   ]
  },
  {
   "cell_type": "markdown",
   "metadata": {},
   "source": [
    "### Tile"
   ]
  },
  {
   "cell_type": "code",
   "execution_count": null,
   "metadata": {},
   "outputs": [],
   "source": [
    "class Tile:\n",
    "    def __init__(self):\n",
    "        self.objects = np.array([], dtype=object)\n",
    "\n",
    "    def add_object(self, obj : Object):        \n",
    "        has_interacted = False\n",
    "        objects_after_interaction = []\n",
    "        for old_obj in self.objects:\n",
    "            if has_interacted or obj.interact(old_obj) == None:\n",
    "                objects_after_interaction = np.append(objects_after_interaction, [old_obj])\n",
    "            else:\n",
    "                objects_after_interaction = np.append(objects_after_interaction, obj.interact(old_obj))\n",
    "                has_interacted = True\n",
    "                \n",
    "        self.objects = objects_after_interaction\n",
    "\n",
    "        if not has_interacted:\n",
    "            self.objects = np.append(self.objects, [obj])\n",
    "\n",
    "\n",
    "    def find_word(self):\n",
    "        for obj in self.objects:\n",
    "            if isinstance(obj, Word):\n",
    "                return obj.value\n",
    "            return ''\n",
    "\n",
    "    def has_property(self, property):\n",
    "        for obj in self.objects:\n",
    "            if obj.property == property:\n",
    "                return True\n",
    "\n",
    "    # delete a 'push' object in the list\n",
    "    # return that 'push' object to a variable\n",
    "    \n",
    "    def pop_push_or_you(self):\n",
    "        position = -1\n",
    "        for i in range(len(self.objects)):\n",
    "            if self.objects[i].property == 'push' or self.objects[i].property == 'you' :\n",
    "                position = i\n",
    "                # print(position)\n",
    "\n",
    "        temp_obj = self.objects[position]\n",
    "        self.objects = np.delete(self.objects, position)\n",
    "\n",
    "        return temp_obj\n",
    "\n",
    "    def __repr__(self):\n",
    "        s = ''\n",
    "        for obj in self.objects:\n",
    "            s += '/'+ obj.name + ',' + obj.property            \n",
    "        return s\n",
    "\n",
    "    \n"
   ]
  },
  {
   "cell_type": "markdown",
   "metadata": {},
   "source": [
    "### Unit Testing"
   ]
  },
  {
   "cell_type": "code",
   "execution_count": null,
   "metadata": {},
   "outputs": [],
   "source": [
    "test= Gameplay(7,7)\n",
    "test.tiles[5,5].add_object(Baba('you'))"
   ]
  },
  {
   "cell_type": "code",
   "execution_count": null,
   "metadata": {},
   "outputs": [],
   "source": [
    "test_gp = Gameplay(6,15)\n",
    "test_gp.tiles[4,9].add_object(Word(\"is\"))\n",
    "# test_gp.tiles[4,9].add_object(Flag())\n",
    "# test_gp.tiles[4,9].add_object(Word(\"is\"))\n",
    "test_gp.tiles[3,9].add_object(Word(\"baba\"))\n",
    "test_gp.tiles[5,9].add_object(Word(\"you\"))\n",
    "test_gp.tiles[4,9].add_object(Word(\"is\"))\n",
    "test_gp.tiles[4,8].add_object(Word(\"rock\"))\n",
    "test_gp.tiles[4,10].add_object(Word(\"push\"))\n",
    "test_gp.tiles[5,9].add_object(Word(\"is\"))\n",
    "test_gp.tiles[5,8].add_object(Word(\"baba\"))\n",
    "test_gp.tiles[5,10].add_object(Word(\"rock\"))\n",
    "test_gp.tiles[2,9].add_object(Flag())\n",
    "test_gp.get_rules()\n"
   ]
  },
  {
   "cell_type": "code",
   "execution_count": null,
   "metadata": {},
   "outputs": [],
   "source": [
    "test_gp.tiles[4,10].has_property('push')\n"
   ]
  },
  {
   "cell_type": "code",
   "execution_count": null,
   "metadata": {},
   "outputs": [],
   "source": [
    "test_gp.tiles[5,9].has_property('push')"
   ]
  },
  {
   "cell_type": "code",
   "execution_count": null,
   "metadata": {},
   "outputs": [],
   "source": [
    "test_gp.tiles[2,9].has_property('push')"
   ]
  },
  {
   "cell_type": "code",
   "execution_count": null,
   "metadata": {},
   "outputs": [],
   "source": [
    "print(test_gp)"
   ]
  },
  {
   "cell_type": "code",
   "execution_count": null,
   "metadata": {},
   "outputs": [],
   "source": [
    "test_tile = Tile()\n",
    "test_tile"
   ]
  },
  {
   "cell_type": "code",
   "execution_count": null,
   "metadata": {},
   "outputs": [],
   "source": [
    "print(test_gp.rules)\n",
    "print(test_gp.rules[0].first)\n",
    "print(test_gp.rules[0].second)\n",
    "print(test_gp.rules[0])"
   ]
  },
  {
   "cell_type": "markdown",
   "metadata": {},
   "source": [
    "### Movement testing"
   ]
  },
  {
   "cell_type": "code",
   "execution_count": null,
   "metadata": {},
   "outputs": [],
   "source": [
    "test_mm = Gameplay(7,7)\n",
    "test_mm.tiles[3,3].add_object(Rock(\"you\"))\n",
    "test_mm.tiles[2,3].add_object(Word(\"is\"))\n",
    "test_mm.tiles[1,3].add_object(Word(\"defeat\"))\n",
    "\n",
    "test_mm.tiles[2,4].add_object(Rock(\"you\"))\n",
    "test_mm.tiles[1,4].add_object(Word(\"is\"))\n",
    "test_mm.tiles[0,4].add_object(Word(\"defeat\"))\n",
    "\n",
    "test_mm.tiles[2,5].add_object(Word(\"defeat\"))\n"
   ]
  },
  {
   "cell_type": "code",
   "execution_count": null,
   "metadata": {},
   "outputs": [],
   "source": [
    "test_mm.tiles[5,3].add_object(Water('sink'))"
   ]
  },
  {
   "cell_type": "code",
   "execution_count": null,
   "metadata": {},
   "outputs": [],
   "source": [
    "print(test_mm)"
   ]
  },
  {
   "cell_type": "code",
   "execution_count": null,
   "metadata": {},
   "outputs": [],
   "source": [
    "test_mm.move_right()\n",
    "print(test_mm)"
   ]
  },
  {
   "cell_type": "code",
   "execution_count": null,
   "metadata": {},
   "outputs": [],
   "source": [
    "test_mm.move_left()\n",
    "print(test_mm)"
   ]
  },
  {
   "cell_type": "code",
   "execution_count": null,
   "metadata": {},
   "outputs": [],
   "source": [
    "test_mm.move_down()\n",
    "print(test_mm)"
   ]
  },
  {
   "cell_type": "code",
   "execution_count": null,
   "metadata": {},
   "outputs": [],
   "source": [
    "test_mm.tiles[4,4].add_object(Word(\"is\"))\n",
    "test_mm.tiles[4,3].add_object(Word(\"is\"))\n",
    "print(test_mm)"
   ]
  },
  {
   "cell_type": "code",
   "execution_count": null,
   "metadata": {},
   "outputs": [],
   "source": [
    "test_mm.tiles[5,4].add_object(Rock(\"you\"))\n",
    "test_mm.tiles[5,3].add_object(Rock(\"you\"))\n",
    "print(test_mm)"
   ]
  },
  {
   "cell_type": "code",
   "execution_count": null,
   "metadata": {},
   "outputs": [],
   "source": [
    "test_mm.move_up()\n",
    "print(test_mm)"
   ]
  },
  {
   "cell_type": "markdown",
   "metadata": {},
   "source": [
    "### Test win lose"
   ]
  },
  {
   "cell_type": "code",
   "execution_count": null,
   "metadata": {},
   "outputs": [],
   "source": [
    "test_mm = Gameplay(7,7)\n",
    "test_mm.tiles[5,4].add_object(Flag(\"win\"))\n",
    "# test_mm.tiles[5,3].add_object(Rock(\"you\"))\n",
    "print(test_mm)"
   ]
  },
  {
   "cell_type": "code",
   "execution_count": null,
   "metadata": {},
   "outputs": [],
   "source": [
    "test_mm.move_right()\n",
    "if test_mm.check_win():\n",
    "    print('winner winner chicken dinner')\n",
    "if test_mm.check_lose():\n",
    "    print('diu lose')"
   ]
  },
  {
   "cell_type": "markdown",
   "metadata": {},
   "source": [
    "### Map Loading"
   ]
  },
  {
   "cell_type": "code",
   "execution_count": null,
   "metadata": {},
   "outputs": [],
   "source": [
    "test_map = Gameplay(1,1)\n",
    "test_map.load_map_level('../../resources/maps/level_1.csv','../../resources/maps/level_1.info')\n",
    "print(test_map)"
   ]
  },
  {
   "cell_type": "code",
   "execution_count": null,
   "metadata": {},
   "outputs": [],
   "source": [
    "test_map.tiles[5,5].add_object(Baba('you'))"
   ]
  },
  {
   "cell_type": "code",
   "execution_count": null,
   "metadata": {},
   "outputs": [],
   "source": [
    "print(test_map)"
   ]
  },
  {
   "cell_type": "code",
   "execution_count": null,
   "metadata": {},
   "outputs": [],
   "source": [
    "test_map.reset_game()\n",
    "test_map"
   ]
  },
  {
   "cell_type": "markdown",
   "metadata": {},
   "source": [
    "### Rule Testing"
   ]
  },
  {
   "cell_type": "code",
   "execution_count": null,
   "metadata": {},
   "outputs": [],
   "source": [
    "test_map.tiles[3,5].add_object(Baba())"
   ]
  },
  {
   "cell_type": "code",
   "execution_count": null,
   "metadata": {},
   "outputs": [],
   "source": [
    "test_map.get_rules()\n",
    "print(test_map.rules)\n",
    "test_map.apply_rules()"
   ]
  },
  {
   "cell_type": "code",
   "execution_count": null,
   "metadata": {},
   "outputs": [],
   "source": [
    "test_map"
   ]
  },
  {
   "cell_type": "markdown",
   "metadata": {},
   "source": [
    "### Tile interaction test"
   ]
  },
  {
   "cell_type": "code",
   "execution_count": null,
   "metadata": {},
   "outputs": [],
   "source": [
    "tile = Tile()\n",
    "\n",
    "tile.add_object(Baba('you'))\n"
   ]
  },
  {
   "cell_type": "code",
   "execution_count": null,
   "metadata": {},
   "outputs": [],
   "source": [
    "print(tile)"
   ]
  },
  {
   "cell_type": "code",
   "execution_count": null,
   "metadata": {},
   "outputs": [],
   "source": [
    "tile.add_object(Water('sink'))"
   ]
  },
  {
   "cell_type": "code",
   "execution_count": null,
   "metadata": {},
   "outputs": [],
   "source": [
    "print(tile)"
   ]
  },
  {
   "cell_type": "markdown",
   "metadata": {},
   "source": [
    "### "
   ]
  }
 ],
 "metadata": {
  "interpreter": {
   "hash": "9fcb93a2e1649457f6ea1f7018c396eb76390968ff47a629b6912a76c40f6148"
  },
  "kernelspec": {
   "display_name": "Python 3.9.7 ('base')",
   "language": "python",
   "name": "python3"
  },
  "language_info": {
   "codemirror_mode": {
    "name": "ipython",
    "version": 3
   },
   "file_extension": ".py",
   "mimetype": "text/x-python",
   "name": "python",
   "nbconvert_exporter": "python",
   "pygments_lexer": "ipython3",
   "version": "3.9.7"
  },
  "orig_nbformat": 4
 },
 "nbformat": 4,
 "nbformat_minor": 2
}
