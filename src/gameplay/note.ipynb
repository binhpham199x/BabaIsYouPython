{
 "cells": [
  {
   "cell_type": "markdown",
   "metadata": {},
   "source": [
    "# Prototype"
   ]
  },
  {
   "cell_type": "code",
   "execution_count": 1,
   "metadata": {},
   "outputs": [],
   "source": [
    "import numpy as np"
   ]
  },
  {
   "cell_type": "markdown",
   "metadata": {},
   "source": [
    "### Gameplay"
   ]
  },
  {
   "cell_type": "code",
   "execution_count": null,
   "metadata": {},
   "outputs": [],
   "source": [
    "class Gameplay:\n",
    "    def __init__(self, n_cols, n_rows):\n",
    "        self.columns = n_cols\n",
    "        self.rows = n_rows\n",
    "        self.rules = []\n",
    "        self.tiles = np.zeros((n_rows, n_cols), dtype=object)\n",
    "        for i in range(n_rows):\n",
    "            for j in range(n_cols):\n",
    "                self.tiles[i,j] = Tile()\n",
    "            \n",
    "    \n",
    "    def get_rules(self):\n",
    "        pass\n",
    "\n",
    "\n",
    "    def move_up(self):\n",
    "        pass\n",
    "    def move_down(self):\n",
    "        pass\n",
    "    def move_left(self):\n",
    "        pass\n",
    "    def move_right(self):\n",
    "        pass\n",
    "\n",
    "\n",
    "    def push_objects(self, direction, col, row):\n",
    "        pass\n",
    "\n",
    "\n",
    "    def check_win(self):\n",
    "        pass\n",
    "    def check_lose(self):\n",
    "        pass\n",
    "\n",
    "    \n",
    "    def reset_game(self):\n",
    "        pass\n",
    "\n",
    "    def load_map_level(self, file_name):\n",
    "        pass"
   ]
  },
  {
   "cell_type": "markdown",
   "metadata": {},
   "source": [
    "### Rule"
   ]
  },
  {
   "cell_type": "code",
   "execution_count": null,
   "metadata": {},
   "outputs": [],
   "source": [
    "class Rule:\n",
    "    def __init__(self, first, second):         #first + is + second \n",
    "        self.first = first\n",
    "        self.second = second\n",
    "        \n",
    "    pass"
   ]
  },
  {
   "cell_type": "markdown",
   "metadata": {},
   "source": [
    "### Object"
   ]
  },
  {
   "cell_type": "code",
   "execution_count": 6,
   "metadata": {},
   "outputs": [],
   "source": [
    "class Object:\n",
    "    def __init__(self, property):\n",
    "        self.property = property\n",
    "\n",
    "    def interaction(self, another_object:object):\n",
    "        \n",
    "        pass\n",
    "        "
   ]
  },
  {
   "cell_type": "code",
   "execution_count": 7,
   "metadata": {},
   "outputs": [],
   "source": [
    "class Baba(Object):        \n",
    "    def interaction(self, another_object:object):\n",
    "        \n",
    "        pass"
   ]
  },
  {
   "cell_type": "code",
   "execution_count": null,
   "metadata": {},
   "outputs": [],
   "source": [
    "class Rock(Object):\n",
    "    def interaction(self, another_object:object):\n",
    "        \n",
    "        pass\n",
    "        "
   ]
  },
  {
   "cell_type": "code",
   "execution_count": null,
   "metadata": {},
   "outputs": [],
   "source": [
    "class Wall(Object):\n",
    "    def interaction(self, another_object:object):\n",
    "        \n",
    "        pass\n",
    "        "
   ]
  },
  {
   "cell_type": "code",
   "execution_count": null,
   "metadata": {},
   "outputs": [],
   "source": [
    "class Water(Object):\n",
    "    def interaction(self, another_object:object):\n",
    "        \n",
    "        pass\n",
    "     "
   ]
  },
  {
   "cell_type": "code",
   "execution_count": null,
   "metadata": {},
   "outputs": [],
   "source": [
    "class Skull(Object):\n",
    "    def interaction(self, another_object:object):\n",
    "        \n",
    "        pass\n",
    "        "
   ]
  },
  {
   "cell_type": "code",
   "execution_count": null,
   "metadata": {},
   "outputs": [],
   "source": [
    "class Flag(Object):\n",
    "    def interaction(self, another_object:object):\n",
    "        \n",
    "        pass\n",
    "        "
   ]
  },
  {
   "cell_type": "code",
   "execution_count": null,
   "metadata": {},
   "outputs": [],
   "source": [
    "class Word(Object):\n",
    "    def __init__(self, value):        \n",
    "        super().__init__('push')\n",
    "        self.value = value\n",
    "\n",
    "    def interaction(self, another_object:object):\n",
    "        \n",
    "        pass\n",
    "        "
   ]
  },
  {
   "cell_type": "markdown",
   "metadata": {},
   "source": [
    "### Tile"
   ]
  },
  {
   "cell_type": "code",
   "execution_count": 3,
   "metadata": {},
   "outputs": [],
   "source": [
    "class Tile:\n",
    "    def __init__(self):\n",
    "        self.objects = np.array([], dtype=object)\n"
   ]
  }
 ],
 "metadata": {
  "interpreter": {
   "hash": "9fcb93a2e1649457f6ea1f7018c396eb76390968ff47a629b6912a76c40f6148"
  },
  "kernelspec": {
   "display_name": "Python 3.9.7 ('base')",
   "language": "python",
   "name": "python3"
  },
  "language_info": {
   "codemirror_mode": {
    "name": "ipython",
    "version": 3
   },
   "file_extension": ".py",
   "mimetype": "text/x-python",
   "name": "python",
   "nbconvert_exporter": "python",
   "pygments_lexer": "ipython3",
   "version": "3.9.7"
  },
  "orig_nbformat": 4
 },
 "nbformat": 4,
 "nbformat_minor": 2
}
