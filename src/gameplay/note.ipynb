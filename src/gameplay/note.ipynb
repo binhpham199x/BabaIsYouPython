{
 "cells": [
  {
   "cell_type": "markdown",
   "metadata": {},
   "source": [
    "# Prototype"
   ]
  },
  {
   "cell_type": "code",
   "execution_count": 156,
   "metadata": {},
   "outputs": [],
   "source": [
    "import numpy as np"
   ]
  },
  {
   "cell_type": "markdown",
   "metadata": {},
   "source": [
    "### Gameplay"
   ]
  },
  {
   "cell_type": "code",
   "execution_count": 157,
   "metadata": {},
   "outputs": [],
   "source": [
    "class Gameplay:\n",
    "    def __init__(self, n_rows, n_cols):\n",
    "        self.columns = n_cols\n",
    "        self.rows = n_rows\n",
    "        self.rules = []\n",
    "        self.tiles = np.zeros((n_rows, n_cols), dtype=object)\n",
    "        for i in range(n_rows):\n",
    "            for j in range(n_cols):\n",
    "                self.tiles[i,j] = Tile()\n",
    "\n",
    "        self.prefixes = ['baba', 'rock', 'water', 'skull', 'wall', 'flag']\n",
    "        self.suffixes = ['you', 'push', 'sink', 'defeat', 'stop', 'win']\n",
    "            \n",
    "\n",
    "    def get_rules(self):\n",
    "        self.rules = []\n",
    "    \n",
    "        for i in range(self.rows):\n",
    "            for j in range(self.columns):\n",
    "                if self.tiles[i,j].find_word() == \"is\":\n",
    "                    print(\"yes\")\n",
    "                    #left -> right\n",
    "                    if j-1 >= 0 and j+1 <=self.columns-1:\n",
    "                        if self.tiles[i,j-1].find_word() in self.prefixes and self.tiles[i,j+1].find_word() in self.suffixes:\n",
    "                            rule = Rule(self.tiles[i,j-1].find_word(), self.tiles[i,j+1].find_word())\n",
    "                            self.rules += [rule]\n",
    "\n",
    "                    #up -> down\n",
    "                    if i-1 >= 0 and i+1 <=self.rows-1:\n",
    "                        if self.tiles[i-1,j].find_word() in self.prefixes and self.tiles[i+1,j].find_word() in self.suffixes:\n",
    "                            rule = Rule(self.tiles[i-1,j].find_word(), self.tiles[i+1,j].find_word())\n",
    "                            self.rules += [rule]\n",
    "\n",
    "\n",
    "    def move_up(self):\n",
    "        pass\n",
    "    def move_down(self):\n",
    "        pass\n",
    "    def move_left(self):\n",
    "        pass\n",
    "    def move_right(self):\n",
    "        pass\n",
    "\n",
    "\n",
    "    def push_objects(self, direction, col, row):\n",
    "        pass\n",
    "\n",
    "\n",
    "    def check_win(self):\n",
    "        pass\n",
    "    def check_lose(self):\n",
    "        pass\n",
    "\n",
    "    \n",
    "    def reset_game(self):\n",
    "        pass\n",
    "\n",
    "    def load_map_level(self, file_name):\n",
    "        pass"
   ]
  },
  {
   "cell_type": "markdown",
   "metadata": {},
   "source": [
    "### Rule"
   ]
  },
  {
   "cell_type": "code",
   "execution_count": 158,
   "metadata": {},
   "outputs": [],
   "source": [
    "class Rule:\n",
    "    def __init__(self, first, second):         #first + is + second \n",
    "        self.first = first\n",
    "        self.second = second\n",
    "    \n",
    "    def __repr__(self):\n",
    "        return self.first +\" is \"+ self.second\n"
   ]
  },
  {
   "cell_type": "markdown",
   "metadata": {},
   "source": [
    "### Object"
   ]
  },
  {
   "cell_type": "code",
   "execution_count": 159,
   "metadata": {},
   "outputs": [],
   "source": [
    "class Object:\n",
    "    def __init__(self, property='no bug here'):\n",
    "        self.property = property\n",
    "\n",
    "    def interaction(self, another_object:object):\n",
    "        \n",
    "        pass\n",
    "        "
   ]
  },
  {
   "cell_type": "code",
   "execution_count": 160,
   "metadata": {},
   "outputs": [],
   "source": [
    "class Baba(Object):        \n",
    "    def interaction(self, another_object:object):\n",
    "        \n",
    "        pass"
   ]
  },
  {
   "cell_type": "code",
   "execution_count": 161,
   "metadata": {},
   "outputs": [],
   "source": [
    "class Rock(Object):\n",
    "    def interaction(self, another_object:object):\n",
    "        \n",
    "        pass\n",
    "        "
   ]
  },
  {
   "cell_type": "code",
   "execution_count": 162,
   "metadata": {},
   "outputs": [],
   "source": [
    "class Wall(Object):\n",
    "    def interaction(self, another_object:object):\n",
    "        \n",
    "        pass\n",
    "        "
   ]
  },
  {
   "cell_type": "code",
   "execution_count": 163,
   "metadata": {},
   "outputs": [],
   "source": [
    "class Water(Object):\n",
    "    def interaction(self, another_object:object):\n",
    "        \n",
    "        pass\n",
    "     "
   ]
  },
  {
   "cell_type": "code",
   "execution_count": 164,
   "metadata": {},
   "outputs": [],
   "source": [
    "class Skull(Object):\n",
    "    def interaction(self, another_object:object):\n",
    "        \n",
    "        pass\n",
    "        "
   ]
  },
  {
   "cell_type": "code",
   "execution_count": 165,
   "metadata": {},
   "outputs": [],
   "source": [
    "class Flag(Object):\n",
    "    def interaction(self, another_object:object):\n",
    "        \n",
    "        pass\n",
    "        "
   ]
  },
  {
   "cell_type": "code",
   "execution_count": 166,
   "metadata": {},
   "outputs": [],
   "source": [
    "class Word(Object):\n",
    "    def __init__(self, value):        \n",
    "        super().__init__('push')\n",
    "        self.value = value\n",
    "\n",
    "    def interaction(self, another_object:object):\n",
    "        \n",
    "        pass\n",
    "        "
   ]
  },
  {
   "cell_type": "markdown",
   "metadata": {},
   "source": [
    "### Tile"
   ]
  },
  {
   "cell_type": "code",
   "execution_count": 167,
   "metadata": {},
   "outputs": [],
   "source": [
    "class Tile:\n",
    "    def __init__(self):\n",
    "        self.objects = np.array([], dtype=object)\n",
    "    def add_object(self, obj : Object):\n",
    "        self.objects = np.append(self.objects, [obj])\n",
    "\n",
    "    def find_word(self):\n",
    "        for obj in self.objects:\n",
    "            if isinstance(obj, Word):\n",
    "                return obj.value\n",
    "            return ''\n"
   ]
  },
  {
   "cell_type": "markdown",
   "metadata": {},
   "source": [
    "### Unit Testing"
   ]
  },
  {
   "cell_type": "code",
   "execution_count": 176,
   "metadata": {},
   "outputs": [
    {
     "name": "stdout",
     "output_type": "stream",
     "text": [
      "yes\n"
     ]
    }
   ],
   "source": [
    "test_gp = Gameplay(6,15)\n",
    "test_gp.tiles[4,9].add_object(Word(\"is\"))\n",
    "test_gp.tiles[4,9].add_object(Flag())\n",
    "test_gp.tiles[4,9].add_object(Word(\"is\"))\n",
    "test_gp.tiles[3,9].add_object(Word(\"baba\"))\n",
    "test_gp.tiles[5,9].add_object(Word(\"you\"))\n",
    "test_gp.tiles[4,9].add_object(Word(\"is\"))\n",
    "test_gp.tiles[4,8].add_object(Word(\"rock\"))\n",
    "test_gp.tiles[4,10].add_object(Word(\"push\"))\n",
    "test_gp.tiles[5,9].add_object(Word(\"is\"))\n",
    "test_gp.tiles[5,8].add_object(Word(\"baba\"))\n",
    "test_gp.tiles[5,10].add_object(Word(\"rock\"))\n",
    "test_gp.get_rules()"
   ]
  },
  {
   "cell_type": "code",
   "execution_count": 172,
   "metadata": {},
   "outputs": [
    {
     "data": {
      "text/plain": [
       "<__main__.Tile at 0x1fea2a49a00>"
      ]
     },
     "execution_count": 172,
     "metadata": {},
     "output_type": "execute_result"
    }
   ],
   "source": [
    "test_tile = Tile()\n",
    "test_tile"
   ]
  },
  {
   "cell_type": "code",
   "execution_count": 177,
   "metadata": {},
   "outputs": [
    {
     "name": "stdout",
     "output_type": "stream",
     "text": [
      "[rock is push, baba is you]\n",
      "rock\n",
      "push\n",
      "rock is push\n"
     ]
    }
   ],
   "source": [
    "print(test_gp.rules)\n",
    "print(test_gp.rules[0].first)\n",
    "print(test_gp.rules[0].second)\n",
    "print(test_gp.rules[0])"
   ]
  }
 ],
 "metadata": {
  "interpreter": {
   "hash": "9fcb93a2e1649457f6ea1f7018c396eb76390968ff47a629b6912a76c40f6148"
  },
  "kernelspec": {
   "display_name": "Python 3.9.7 ('base')",
   "language": "python",
   "name": "python3"
  },
  "language_info": {
   "codemirror_mode": {
    "name": "ipython",
    "version": 3
   },
   "file_extension": ".py",
   "mimetype": "text/x-python",
   "name": "python",
   "nbconvert_exporter": "python",
   "pygments_lexer": "ipython3",
   "version": "3.9.7"
  },
  "orig_nbformat": 4
 },
 "nbformat": 4,
 "nbformat_minor": 2
}
